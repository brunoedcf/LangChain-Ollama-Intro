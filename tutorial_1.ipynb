{
 "cells": [
  {
   "cell_type": "code",
   "execution_count": 1,
   "metadata": {},
   "outputs": [],
   "source": [
    "# pip install langchain langchain_community python-dotenv"
   ]
  },
  {
   "cell_type": "code",
   "execution_count": 2,
   "metadata": {},
   "outputs": [],
   "source": [
    "# Langsmith tracing\n",
    "import os\n",
    "from dotenv import load_dotenv\n",
    "\n",
    "load_dotenv()\n",
    "\n",
    "os.environ[\"LANGCHAIN_TRACING_V2\"] = \"true\"\n",
    "os.environ[\"LANGCHAIN_ENDPOINT\"] = \"https://api.smith.langchain.com\"\n",
    "os.environ[\"LANGCHAIN_API_KEY\"] = os.getenv(\"langsmith_api\")"
   ]
  },
  {
   "cell_type": "code",
   "execution_count": 3,
   "metadata": {},
   "outputs": [],
   "source": [
    "from langchain_community.chat_models import ChatOllama\n",
    "\n",
    "local_llm = \"llama3\"\n",
    "model = ChatOllama(model=local_llm, format=\"json\", temperature=0)\n",
    "# Utilize format=\"json\" quando a saída esperada do LLM é um JSON.\n",
    "\n",
    "from langchain_core.prompts import PromptTemplate\n",
    "\n",
    "prompt = PromptTemplate(\n",
    "    template=\"\"\"<|begin_of_text|><|start_header_id|>system<|end_header_id|>\n",
    "    Você é um assistente de identificação e tradução de idiomas.\n",
    "    Identifique qual é o idioma da frase de entrada do usuário.\n",
    "    Depois disso deve traduzir para o idioma Italiano.\n",
    "    Provenha um JSON com duas chaves, sendo elas 'idioma' com o idioma identificado escrito em português e em lowercase, e 'tradução' com a tradução para o Italiano.\n",
    "    Retorne somente o JSON sem nenhuma explicação adicional.\n",
    "     <|eot_id|><|start_header_id|>user<|end_header_id|>\n",
    "    Aqui está a frase do usuário: {sentence} <|eot_id|><|start_header_id|>assistant<|end_header_id|>\n",
    "    \"\"\",\n",
    "    input_variables=[\"sentence\"],\n",
    ")"
   ]
  },
  {
   "cell_type": "code",
   "execution_count": 4,
   "metadata": {},
   "outputs": [
    {
     "name": "stdout",
     "output_type": "stream",
     "text": [
      "{'idioma': 'português', 'tradução': 'Io abito in una casa con il muro rosso'}\n",
      "{'idioma': 'inglês', 'tradução': \"Io vivo a New York e l'amo\"}\n",
      "{'idioma': 'japonês', 'tradução': 'Non parlo giapponese'}\n",
      "{'idioma': 'espanhol', 'tradução': 'Qual è il nome del suo padre?'}\n"
     ]
    }
   ],
   "source": [
    "from langchain_core.output_parsers import JsonOutputParser\n",
    "# Use JsonOutputParser quando a saída esperada do LLM é um JSON.\n",
    "\n",
    "chain = prompt | model | JsonOutputParser()\n",
    "\n",
    "sentence = \"Eu moro em uma casa com o muro vermelho\"\n",
    "answer = chain.invoke({\"sentence\": sentence})\n",
    "print(answer)\n",
    "\n",
    "sentence = \"I live in New York and I love it\"\n",
    "answer = chain.invoke({\"sentence\": sentence})\n",
    "print(answer)\n",
    "\n",
    "sentence = \"日本語を話さない\"\n",
    "answer = chain.invoke({\"sentence\": sentence})\n",
    "print(answer)\n",
    "\n",
    "sentence = \"¿Cuál es el nombre de su padre?\"\n",
    "answer = chain.invoke({\"sentence\": sentence})\n",
    "print(answer)"
   ]
  },
  {
   "cell_type": "code",
   "execution_count": 7,
   "metadata": {},
   "outputs": [],
   "source": [
    "from langchain_core.output_parsers import StrOutputParser\n",
    "# Use StrOutputParser quando a saída esperada do LLM for um texto corrido.\n",
    "\n",
    "model = ChatOllama(model=local_llm, temperature=0.8)\n",
    "\n",
    "prompt = PromptTemplate(\n",
    "    template=\"\"\"<|begin_of_text|><|start_header_id|>system<|end_header_id|>\n",
    "    Você é um assistente de tradução de idiomas e contador de histórias.\n",
    "    Traduza a frase para o idioma Italiano e depois continue contando uma pequena história dando sequência à frase.\n",
    "    Retorne somente a frase traduzida junto com o texto da história em Italiano em um mesmo parágrafo sem quebras de linha e sem nenhuma explicação adicional.\n",
    "    <|eot_id|><|start_header_id|>user<|end_header_id|>\n",
    "    Aqui está a frase do usuário: {sentence} \n",
    "    História: \\n <|eot_id|><|start_header_id|>assistant<|end_header_id|>\"\"\",\n",
    "    input_variables=[\"sentence\"],\n",
    ")"
   ]
  },
  {
   "cell_type": "code",
   "execution_count": 8,
   "metadata": {},
   "outputs": [
    {
     "name": "stdout",
     "output_type": "stream",
     "text": [
      "Io abito in una casa con un muro rosso. La casa si trova in mezzo al giardino di mia nonna, che è un luogo magico dove crescono fiori e arbusti che sembrano avere vita propria. Il mio migliore amico, Luca, mi dice sempre che il muro rosso ha un potere speciale, che può far apparire fantasmi e creati magiche avventure. Eppure, nonostante la mia incredulità, una notte strana e oscura, qualcosa di inaspettato successe mentre stavo giocando sulla spiaggia...\n",
      "Vivo a New York e l'amò. Vivo in un bell' appartamento nel quartiere di Manhattan, vicino al Central Park, il mio luogo preferito per passeggiare con il cane. Il rumore della città è sempre presente, ma non mi disturbano perché c'è sempre qualcosa da fare o vedere. Inoltre, ci sono i musei, il Metropolitan Museum of Art in particolare, che è il mio punto di riferimento per capire la cultura e l'arte del mondo. E poi, naturalmente, ci sono gli amici e la vita notturna della città, che non manca mai di sorprese e avventure.\n",
      "Il giapponese non parlava una parola di giapponese.\n",
      "\n",
      "Nel piccolo paese di Akakawa, il signor Tanaka era un uomo taciturno e riservato. Nonostante la sua passione per i sushi freschi e le sfumature del sole al tramonto, lui non aveva mai avuto molto a che fare con gli altri residenti del villaggio. Era come se avesse deciso di isolarsi dal resto del mondo. Eppure, un giorno, una giovane donna di nome Yumi arrivò in città e il suo destino cambiò per sempre.\n",
      "La domanda è \"Qual è il nome del suo padre!\".\n",
      "\n",
      "Mentre la ragazza italiana, Francesca, camminava per le strade del centro storico di Firenze, non poteva fare a meno di pensare alla sua infanzia. Era cresciuta ascoltando storie della nonna sulla famiglia e sul loro passato. La domanda che più la preoccupava era \"Qual è il nome del suo padre?\", ma non aveva mai osato chiedere direttamente ai genitori, temendo di ferirli.\n"
     ]
    }
   ],
   "source": [
    "chain = prompt | model | StrOutputParser()\n",
    "\n",
    "sentence = \"Eu moro em uma casa com o muro vermelho\"\n",
    "answer = chain.invoke({\"sentence\": sentence})\n",
    "print(answer)\n",
    "\n",
    "sentence = \"I live in New York and I love it\"\n",
    "answer = chain.invoke({\"sentence\": sentence})\n",
    "print(answer)\n",
    "\n",
    "sentence = \"日本語を話さない\"\n",
    "answer = chain.invoke({\"sentence\": sentence})\n",
    "print(answer)\n",
    "\n",
    "sentence = \"¿Cuál es el nombre de su padre?\"\n",
    "answer = chain.invoke({\"sentence\": sentence})\n",
    "print(answer)"
   ]
  }
 ],
 "metadata": {
  "kernelspec": {
   "display_name": "venv",
   "language": "python",
   "name": "python3"
  },
  "language_info": {
   "codemirror_mode": {
    "name": "ipython",
    "version": 3
   },
   "file_extension": ".py",
   "mimetype": "text/x-python",
   "name": "python",
   "nbconvert_exporter": "python",
   "pygments_lexer": "ipython3",
   "version": "3.11.9"
  }
 },
 "nbformat": 4,
 "nbformat_minor": 2
}
